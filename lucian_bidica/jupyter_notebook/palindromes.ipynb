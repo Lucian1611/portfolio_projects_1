{
 "cells": [
  {
   "cell_type": "code",
   "execution_count": null,
   "id": "8b602086",
   "metadata": {},
   "outputs": [],
   "source": [
    "import pandas as pd\n",
    "import collections"
   ]
  },
  {
   "cell_type": "code",
   "execution_count": null,
   "id": "499968ac",
   "metadata": {},
   "outputs": [],
   "source": [
    "vocabulary = [line.strip().lower() for line in open('words.txt', \"r\")]"
   ]
  },
  {
   "cell_type": "code",
   "execution_count": null,
   "id": "46dedc80",
   "metadata": {},
   "outputs": [],
   "source": [
    "vocabulary"
   ]
  },
  {
   "cell_type": "code",
   "execution_count": null,
   "id": "810186be",
   "metadata": {},
   "outputs": [],
   "source": [
    "count = 0\n",
    "for word in vocabulary:\n",
    "    if word == word[::-1]:\n",
    "        count += 1\n",
    "        print(word)\n",
    "print(count)"
   ]
  }
 ],
 "metadata": {
  "kernelspec": {
   "display_name": "Python 3 (ipykernel)",
   "language": "python",
   "name": "python3"
  },
  "language_info": {
   "codemirror_mode": {
    "name": "ipython",
    "version": 3
   },
   "file_extension": ".py",
   "mimetype": "text/x-python",
   "name": "python",
   "nbconvert_exporter": "python",
   "pygments_lexer": "ipython3",
   "version": "3.9.12"
  }
 },
 "nbformat": 4,
 "nbformat_minor": 5
}
