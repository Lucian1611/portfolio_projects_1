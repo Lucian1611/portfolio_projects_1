{
 "cells": [
  {
   "cell_type": "code",
   "execution_count": null,
   "id": "6366fcbd",
   "metadata": {},
   "outputs": [],
   "source": [
    "import pandas as pd\n",
    "import math\n",
    "import collections"
   ]
  },
  {
   "cell_type": "code",
   "execution_count": null,
   "id": "3d23f0e8",
   "metadata": {},
   "outputs": [],
   "source": [
    "vocabulary = [line.strip().lower() for line in open('words.txt', 'r') if line[0] not in ['0','1','2','3','4','5','6','7','8','9'] and line[1]!= '.']"
   ]
  },
  {
   "cell_type": "code",
   "execution_count": null,
   "id": "b85b1795",
   "metadata": {},
   "outputs": [],
   "source": [
    "vocabulary"
   ]
  },
  {
   "cell_type": "code",
   "execution_count": null,
   "id": "fcab1f74",
   "metadata": {},
   "outputs": [],
   "source": [
    "def signature(word):\n",
    "    return ''.join(sorted(word))"
   ]
  },
  {
   "cell_type": "code",
   "execution_count": null,
   "id": "1286fe4c",
   "metadata": {},
   "outputs": [],
   "source": [
    "def find_anagram(myword):\n",
    "    mysig = signature(myword)\n",
    "    \n",
    "    for word in vocabulary:\n",
    "        if mysig == signature(word):\n",
    "            print(word)"
   ]
  },
  {
   "cell_type": "code",
   "execution_count": null,
   "id": "da83742f",
   "metadata": {},
   "outputs": [],
   "source": [
    "find_anagram('dictionary')"
   ]
  },
  {
   "cell_type": "code",
   "execution_count": null,
   "id": "795e464e",
   "metadata": {},
   "outputs": [],
   "source": [
    "%time find_anagram('lucian')"
   ]
  },
  {
   "cell_type": "code",
   "execution_count": null,
   "id": "d0671480",
   "metadata": {},
   "outputs": [],
   "source": [
    "%time find_anagram('dictionary')"
   ]
  },
  {
   "cell_type": "code",
   "execution_count": null,
   "id": "6beb561f",
   "metadata": {},
   "outputs": [],
   "source": [
    "words_by_signature = collections.defaultdict(set)\n",
    "\n",
    "for word in vocabulary:\n",
    "    words_by_signature[signature(word)].add(word)"
   ]
  },
  {
   "cell_type": "code",
   "execution_count": null,
   "id": "77b018d0",
   "metadata": {},
   "outputs": [],
   "source": [
    "words_by_signature"
   ]
  },
  {
   "cell_type": "code",
   "execution_count": null,
   "id": "b9deff45",
   "metadata": {},
   "outputs": [],
   "source": [
    "anagram_by_signature = {sig : wordset for sig, wordset in words_by_signature.items() if len(wordset)>1}"
   ]
  },
  {
   "cell_type": "code",
   "execution_count": null,
   "id": "f2dc7c4b",
   "metadata": {},
   "outputs": [],
   "source": [
    "anagram_by_signature"
   ]
  },
  {
   "cell_type": "code",
   "execution_count": null,
   "id": "fcd12d62",
   "metadata": {},
   "outputs": [],
   "source": [
    "def find_anagram_fast(myword):\n",
    "    sig = signature(myword)\n",
    "    \n",
    "    try:\n",
    "        return anagram_by_signature[sig]\n",
    "    except KeyError:\n",
    "        return set()\n"
   ]
  },
  {
   "cell_type": "code",
   "execution_count": null,
   "id": "69eb988d",
   "metadata": {},
   "outputs": [],
   "source": [
    "find_anagram_fast('dictionary')"
   ]
  },
  {
   "cell_type": "code",
   "execution_count": null,
   "id": "c6c4e2c8",
   "metadata": {},
   "outputs": [],
   "source": [
    "find_anagram_fast('michele')"
   ]
  },
  {
   "cell_type": "code",
   "execution_count": null,
   "id": "bba81290",
   "metadata": {},
   "outputs": [],
   "source": [
    "%time find_anagram_fast('car')"
   ]
  },
  {
   "cell_type": "code",
   "execution_count": null,
   "id": "004ca71c",
   "metadata": {},
   "outputs": [],
   "source": [
    "%time find_anagram_fast('dictionary')"
   ]
  },
  {
   "cell_type": "code",
   "execution_count": null,
   "id": "48f0ceda",
   "metadata": {},
   "outputs": [],
   "source": [
    "sorted(anagram_by_signature.values(), key=len , reverse=True)"
   ]
  }
 ],
 "metadata": {
  "kernelspec": {
   "display_name": "Python 3 (ipykernel)",
   "language": "python",
   "name": "python3"
  },
  "language_info": {
   "codemirror_mode": {
    "name": "ipython",
    "version": 3
   },
   "file_extension": ".py",
   "mimetype": "text/x-python",
   "name": "python",
   "nbconvert_exporter": "python",
   "pygments_lexer": "ipython3",
   "version": "3.9.12"
  }
 },
 "nbformat": 4,
 "nbformat_minor": 5
}
